{
 "cells": [
  {
   "cell_type": "code",
   "execution_count": 4,
   "metadata": {},
   "outputs": [],
   "source": [
    "import pandas as pd\n",
    "\n",
    "file_path = '../../real_data/trace/W2K8.TPCC.10-19-2007.12-51-PM.trace-filtered-target-converted-split.txt'"
   ]
  },
  {
   "cell_type": "code",
   "execution_count": 5,
   "metadata": {},
   "outputs": [
    {
     "name": "stdout",
     "output_type": "stream",
     "text": [
      "2000004\n",
      "          lba  size\n",
      "0  3201773568     8\n",
      "1  3201773576     8\n",
      "2  3155169280     8\n",
      "3  3155156992     8\n",
      "4  3161305088     8\n"
     ]
    }
   ],
   "source": [
    "#  read the file\n",
    "trace = pd.read_csv(file_path, sep=' ')\n",
    "trace.columns = ['lba', 'size']\n",
    "print(len(trace))\n",
    "print(trace.head())"
   ]
  },
  {
   "cell_type": "code",
   "execution_count": 6,
   "metadata": {},
   "outputs": [
    {
     "name": "stdout",
     "output_type": "stream",
     "text": [
      "  rw         lba  size\n",
      "0  W  3201773568     8\n",
      "1  W  3201773576     8\n",
      "2  W  3155169280     8\n",
      "3  W  3155156992     8\n",
      "4  W  3161305088     8\n"
     ]
    }
   ],
   "source": [
    "# add a new column to the dataframe all with value W (write) add as first column\n",
    "trace.insert(0, 'rw', 'W')\n",
    "print(trace.head())\n",
    "\n"
   ]
  },
  {
   "cell_type": "code",
   "execution_count": 7,
   "metadata": {},
   "outputs": [],
   "source": [
    "# Save the dataframe to a new file name ftl_sim_tpcc_w2k8\n",
    "trace.to_csv('../../real_data/trace/ftl_sim_tpcc_w2k8', sep=' ', index=False, header=False)\n"
   ]
  },
  {
   "cell_type": "code",
   "execution_count": 8,
   "metadata": {},
   "outputs": [],
   "source": [
    "import pandas as pd\n",
    "\n",
    "file_path = '../../real_data/trace/msr_cambridge_1.txt'"
   ]
  },
  {
   "cell_type": "code",
   "execution_count": 9,
   "metadata": {},
   "outputs": [
    {
     "name": "stdout",
     "output_type": "stream",
     "text": [
      "12135443\n",
      "          lba  size\n",
      "0  1105183744     2\n",
      "1  1105184768     2\n",
      "2  1105186816     2\n",
      "3  1105185792     2\n",
      "4  1105187840     2\n",
      "  rw         lba  size\n",
      "0  W  1105183744     2\n",
      "1  W  1105184768     2\n",
      "2  W  1105186816     2\n",
      "3  W  1105185792     2\n",
      "4  W  1105187840     2\n"
     ]
    }
   ],
   "source": [
    "#  read the file\n",
    "trace = pd.read_csv(file_path, sep=' ')\n",
    "trace.columns = ['lba', 'size']\n",
    "print(len(trace))\n",
    "print(trace.head())\n",
    "trace.insert(0, 'rw', 'W')\n",
    "print(trace.head())"
   ]
  },
  {
   "cell_type": "code",
   "execution_count": 10,
   "metadata": {},
   "outputs": [],
   "source": [
    "# Save the dataframe to a new file name proxy_msr_cambridge_1 first 2000000\n",
    "trace.iloc[:2000000].to_csv('../../real_data/trace/proxy_msr_cambridge_1', sep=' ', index=False, header=False)\n",
    "# Save the dataframe to a new file name ftl_sim_msr_cambridge_1\n"
   ]
  },
  {
   "cell_type": "code",
   "execution_count": null,
   "metadata": {},
   "outputs": [],
   "source": []
  }
 ],
 "metadata": {
  "kernelspec": {
   "display_name": "Python 3",
   "language": "python",
   "name": "python3"
  },
  "language_info": {
   "codemirror_mode": {
    "name": "ipython",
    "version": 3
   },
   "file_extension": ".py",
   "mimetype": "text/x-python",
   "name": "python",
   "nbconvert_exporter": "python",
   "pygments_lexer": "ipython3",
   "version": "3.8.10"
  }
 },
 "nbformat": 4,
 "nbformat_minor": 2
}
